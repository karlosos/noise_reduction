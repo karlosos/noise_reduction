{
  "nbformat": 4,
  "nbformat_minor": 0,
  "metadata": {
    "colab": {
      "name": "Noise Reduction - download data.ipynb",
      "provenance": [],
      "collapsed_sections": [],
      "toc_visible": true
    },
    "kernelspec": {
      "name": "python3",
      "display_name": "Python 3"
    },
    "language_info": {
      "name": "python"
    }
  },
  "cells": [
    {
      "cell_type": "markdown",
      "metadata": {
        "id": "0Fz9PD-jj4dK"
      },
      "source": [
        "# Pre-prepare data for noise reduction\n",
        "\n",
        "This notebook is for collecting raw data (clean voice and noises) and organize them in the way that is required for the next step, i.e. creating actual training data for DNN."
      ]
    },
    {
      "cell_type": "markdown",
      "metadata": {
        "id": "wXyL7wDSX9oc"
      },
      "source": [
        "## Download dataset"
      ]
    },
    {
      "cell_type": "code",
      "metadata": {
        "colab": {
          "base_uri": "https://localhost:8080/"
        },
        "id": "xxlOe6aWXeSS",
        "outputId": "de30a998-e6c9-4017-c7d0-8a271eb0a9f9"
      },
      "source": [
        "!wget https://github.com/karoldvl/ESC-50/archive/master.zip"
      ],
      "execution_count": 1,
      "outputs": [
        {
          "output_type": "stream",
          "text": [
            "--2021-05-08 19:05:12--  https://github.com/karoldvl/ESC-50/archive/master.zip\n",
            "Resolving github.com (github.com)... 140.82.113.3\n",
            "Connecting to github.com (github.com)|140.82.113.3|:443... connected.\n",
            "HTTP request sent, awaiting response... 301 Moved Permanently\n",
            "Location: https://github.com/karolpiczak/ESC-50/archive/master.zip [following]\n",
            "--2021-05-08 19:05:12--  https://github.com/karolpiczak/ESC-50/archive/master.zip\n",
            "Reusing existing connection to github.com:443.\n",
            "HTTP request sent, awaiting response... 302 Found\n",
            "Location: https://codeload.github.com/karolpiczak/ESC-50/zip/master [following]\n",
            "--2021-05-08 19:05:12--  https://codeload.github.com/karolpiczak/ESC-50/zip/master\n",
            "Resolving codeload.github.com (codeload.github.com)... 140.82.112.10\n",
            "Connecting to codeload.github.com (codeload.github.com)|140.82.112.10|:443... connected.\n",
            "HTTP request sent, awaiting response... 200 OK\n",
            "Length: unspecified [application/zip]\n",
            "Saving to: ‘master.zip’\n",
            "\n",
            "master.zip              [<=>                 ] 615.78M  13.7MB/s    in 43s     \n",
            "\n",
            "2021-05-08 19:05:56 (14.2 MB/s) - ‘master.zip’ saved [645694170]\n",
            "\n"
          ],
          "name": "stdout"
        }
      ]
    },
    {
      "cell_type": "code",
      "metadata": {
        "colab": {
          "base_uri": "https://localhost:8080/"
        },
        "id": "JREIjIzbXmrb",
        "outputId": "500f4f7f-9c44-43a1-f9af-5a3ab81b8f65"
      },
      "source": [
        "!wget https://www.openslr.org/resources/12/dev-clean.tar.gz"
      ],
      "execution_count": 2,
      "outputs": [
        {
          "output_type": "stream",
          "text": [
            "--2021-05-08 19:05:57--  https://www.openslr.org/resources/12/dev-clean.tar.gz\n",
            "Resolving www.openslr.org (www.openslr.org)... 46.101.158.64\n",
            "Connecting to www.openslr.org (www.openslr.org)|46.101.158.64|:443... connected.\n",
            "HTTP request sent, awaiting response... 200 OK\n",
            "Length: 337926286 (322M) [application/x-gzip]\n",
            "Saving to: ‘dev-clean.tar.gz’\n",
            "\n",
            "dev-clean.tar.gz    100%[===================>] 322.27M  24.8MB/s    in 14s     \n",
            "\n",
            "2021-05-08 19:06:11 (23.8 MB/s) - ‘dev-clean.tar.gz’ saved [337926286/337926286]\n",
            "\n"
          ],
          "name": "stdout"
        }
      ]
    },
    {
      "cell_type": "markdown",
      "metadata": {
        "id": "hQCo_tRKX_yU"
      },
      "source": [
        "## Uncompressing datasets"
      ]
    },
    {
      "cell_type": "code",
      "metadata": {
        "colab": {
          "base_uri": "https://localhost:8080/"
        },
        "id": "B_6XlGYmXqLp",
        "outputId": "e1152e34-0094-4c37-97ee-6f4054a5052d"
      },
      "source": [
        "!unzip -q master.zip -d ."
      ],
      "execution_count": 23,
      "outputs": [
        {
          "output_type": "stream",
          "text": [
            "replace ./ESC-50-master/.circleci/config.yml? [y]es, [n]o, [A]ll, [N]one, [r]ename: A\n"
          ],
          "name": "stdout"
        }
      ]
    },
    {
      "cell_type": "code",
      "metadata": {
        "id": "aD3j9pWrYA7J"
      },
      "source": [
        "yA!tar -xf dev-clean.tar.gz"
      ],
      "execution_count": 6,
      "outputs": []
    },
    {
      "cell_type": "markdown",
      "metadata": {
        "id": "6IRfH8yiYdhD"
      },
      "source": [
        "## Unpacking files from LibriSpeech to `clean_voice`"
      ]
    },
    {
      "cell_type": "code",
      "metadata": {
        "id": "pnsu8sBlieOT"
      },
      "source": [
        "from pathlib import Path\n",
        "\n",
        "def make_dir(path):\n",
        "  try:\n",
        "      os.makedirs(path)\n",
        "  except OSError:\n",
        "      print (\"Creation of the directory %s failed\" % path)\n",
        "  else:\n",
        "      print (\"Successfully created the directory %s \" % path)"
      ],
      "execution_count": 79,
      "outputs": []
    },
    {
      "cell_type": "code",
      "metadata": {
        "colab": {
          "base_uri": "https://localhost:8080/"
        },
        "id": "l49Kzr-RYZ_y",
        "outputId": "0321cfb5-9a44-494e-969d-d44090e88c70"
      },
      "source": [
        "from shutil import copyfile\n",
        "import os\n",
        "\n",
        "# Create output dir\n",
        "output_dir = './clean_voice'\n",
        "make_dir(output_dir)\n",
        "\n",
        "# Copy all .flac files\n",
        "for path in Path('LibriSpeech').rglob('*.flac'):\n",
        "  copyfile(path, Path(output_dir, path.name))"
      ],
      "execution_count": 80,
      "outputs": [
        {
          "output_type": "stream",
          "text": [
            "Creation of the directory ./clean_voice failed\n"
          ],
          "name": "stdout"
        }
      ]
    },
    {
      "cell_type": "code",
      "metadata": {
        "colab": {
          "base_uri": "https://localhost:8080/"
        },
        "id": "vE9VRfP2Y4FZ",
        "outputId": "be26075b-85e6-4031-f072-931273937cae"
      },
      "source": [
        "!ls ./Data/clean_voice | head"
      ],
      "execution_count": 63,
      "outputs": [
        {
          "output_type": "stream",
          "text": [
            "1272-128104-0000.flac\n",
            "1272-128104-0001.flac\n",
            "1272-128104-0002.flac\n",
            "1272-128104-0003.flac\n",
            "1272-128104-0004.flac\n",
            "1272-128104-0005.flac\n",
            "1272-128104-0006.flac\n",
            "1272-128104-0007.flac\n",
            "1272-128104-0008.flac\n",
            "1272-128104-0009.flac\n"
          ],
          "name": "stdout"
        }
      ]
    },
    {
      "cell_type": "markdown",
      "metadata": {
        "id": "U3Zs9U2pbH9w"
      },
      "source": [
        "## Unpacking files from ESC to `noises`\n",
        "\n",
        "Firstly I've uploaded manually `esc50.csv` from `docs/` to Google Colab."
      ]
    },
    {
      "cell_type": "code",
      "metadata": {
        "id": "zQzlhBl3aPyA"
      },
      "source": [
        "import pandas as pd\n",
        "df = pd.read_csv('esc50.csv')"
      ],
      "execution_count": 64,
      "outputs": []
    },
    {
      "cell_type": "code",
      "metadata": {
        "colab": {
          "base_uri": "https://localhost:8080/",
          "height": 204
        },
        "id": "88QvhvlGbYTC",
        "outputId": "805237a9-5eed-4729-e401-3647a8df89f2"
      },
      "source": [
        "df.head()"
      ],
      "execution_count": 65,
      "outputs": [
        {
          "output_type": "execute_result",
          "data": {
            "text/html": [
              "<div>\n",
              "<style scoped>\n",
              "    .dataframe tbody tr th:only-of-type {\n",
              "        vertical-align: middle;\n",
              "    }\n",
              "\n",
              "    .dataframe tbody tr th {\n",
              "        vertical-align: top;\n",
              "    }\n",
              "\n",
              "    .dataframe thead th {\n",
              "        text-align: right;\n",
              "    }\n",
              "</style>\n",
              "<table border=\"1\" class=\"dataframe\">\n",
              "  <thead>\n",
              "    <tr style=\"text-align: right;\">\n",
              "      <th></th>\n",
              "      <th>filename</th>\n",
              "      <th>fold</th>\n",
              "      <th>target</th>\n",
              "      <th>category</th>\n",
              "      <th>esc10</th>\n",
              "      <th>src_file</th>\n",
              "      <th>take</th>\n",
              "    </tr>\n",
              "  </thead>\n",
              "  <tbody>\n",
              "    <tr>\n",
              "      <th>0</th>\n",
              "      <td>1-100032-A-0.wav</td>\n",
              "      <td>1</td>\n",
              "      <td>0</td>\n",
              "      <td>dog</td>\n",
              "      <td>True</td>\n",
              "      <td>100032</td>\n",
              "      <td>A</td>\n",
              "    </tr>\n",
              "    <tr>\n",
              "      <th>1</th>\n",
              "      <td>1-100038-A-14.wav</td>\n",
              "      <td>1</td>\n",
              "      <td>14</td>\n",
              "      <td>chirping_birds</td>\n",
              "      <td>False</td>\n",
              "      <td>100038</td>\n",
              "      <td>A</td>\n",
              "    </tr>\n",
              "    <tr>\n",
              "      <th>2</th>\n",
              "      <td>1-100210-A-36.wav</td>\n",
              "      <td>1</td>\n",
              "      <td>36</td>\n",
              "      <td>vacuum_cleaner</td>\n",
              "      <td>False</td>\n",
              "      <td>100210</td>\n",
              "      <td>A</td>\n",
              "    </tr>\n",
              "    <tr>\n",
              "      <th>3</th>\n",
              "      <td>1-100210-B-36.wav</td>\n",
              "      <td>1</td>\n",
              "      <td>36</td>\n",
              "      <td>vacuum_cleaner</td>\n",
              "      <td>False</td>\n",
              "      <td>100210</td>\n",
              "      <td>B</td>\n",
              "    </tr>\n",
              "    <tr>\n",
              "      <th>4</th>\n",
              "      <td>1-101296-A-19.wav</td>\n",
              "      <td>1</td>\n",
              "      <td>19</td>\n",
              "      <td>thunderstorm</td>\n",
              "      <td>False</td>\n",
              "      <td>101296</td>\n",
              "      <td>A</td>\n",
              "    </tr>\n",
              "  </tbody>\n",
              "</table>\n",
              "</div>"
            ],
            "text/plain": [
              "            filename  fold  target        category  esc10  src_file take\n",
              "0   1-100032-A-0.wav     1       0             dog   True    100032    A\n",
              "1  1-100038-A-14.wav     1      14  chirping_birds  False    100038    A\n",
              "2  1-100210-A-36.wav     1      36  vacuum_cleaner  False    100210    A\n",
              "3  1-100210-B-36.wav     1      36  vacuum_cleaner  False    100210    B\n",
              "4  1-101296-A-19.wav     1      19    thunderstorm  False    101296    A"
            ]
          },
          "metadata": {
            "tags": []
          },
          "execution_count": 65
        }
      ]
    },
    {
      "cell_type": "markdown",
      "metadata": {
        "id": "GmWUAYo_b-1d"
      },
      "source": [
        "### Dostępne dźwięki"
      ]
    },
    {
      "cell_type": "code",
      "metadata": {
        "colab": {
          "base_uri": "https://localhost:8080/"
        },
        "id": "Sfel94m3bed9",
        "outputId": "22f12c40-94fc-431c-ccf3-815ef4507de7"
      },
      "source": [
        "import numpy as np\n",
        "np.unique(list(df['category']))"
      ],
      "execution_count": 66,
      "outputs": [
        {
          "output_type": "execute_result",
          "data": {
            "text/plain": [
              "array(['airplane', 'breathing', 'brushing_teeth', 'can_opening',\n",
              "       'car_horn', 'cat', 'chainsaw', 'chirping_birds', 'church_bells',\n",
              "       'clapping', 'clock_alarm', 'clock_tick', 'coughing', 'cow',\n",
              "       'crackling_fire', 'crickets', 'crow', 'crying_baby', 'dog',\n",
              "       'door_wood_creaks', 'door_wood_knock', 'drinking_sipping',\n",
              "       'engine', 'fireworks', 'footsteps', 'frog', 'glass_breaking',\n",
              "       'hand_saw', 'helicopter', 'hen', 'insects', 'keyboard_typing',\n",
              "       'laughing', 'mouse_click', 'pig', 'pouring_water', 'rain',\n",
              "       'rooster', 'sea_waves', 'sheep', 'siren', 'sneezing', 'snoring',\n",
              "       'thunderstorm', 'toilet_flush', 'train', 'vacuum_cleaner',\n",
              "       'washing_machine', 'water_drops', 'wind'], dtype='<U16')"
            ]
          },
          "metadata": {
            "tags": []
          },
          "execution_count": 66
        }
      ]
    },
    {
      "cell_type": "code",
      "metadata": {
        "id": "AmqBTpQdb4LP"
      },
      "source": [
        "chosen_noises = ['mouse_click', 'keyboard_typing', 'chirping_birds']"
      ],
      "execution_count": 67,
      "outputs": []
    },
    {
      "cell_type": "code",
      "metadata": {
        "colab": {
          "base_uri": "https://localhost:8080/"
        },
        "id": "nYR4M4zZfVMr",
        "outputId": "bde1a05c-0ce2-4e01-d0a2-2df5b77b980c"
      },
      "source": [
        "filenames = []\n",
        "for category_name in chosen_noises:\n",
        "  filenames += list(df.loc[df['category'] == category_name]['filename'])\n",
        "\n",
        "print(f\"Chosen {len(filenames)} files.\")"
      ],
      "execution_count": 68,
      "outputs": [
        {
          "output_type": "stream",
          "text": [
            "Chosen 120 files.\n"
          ],
          "name": "stdout"
        }
      ]
    },
    {
      "cell_type": "markdown",
      "metadata": {
        "id": "zSVTXTsMcjyl"
      },
      "source": [
        "### Copy chosen noises from ESC-50-master to ./Data/noises/"
      ]
    },
    {
      "cell_type": "code",
      "metadata": {
        "id": "gFaiDkGRiOqj"
      },
      "source": [
        ""
      ],
      "execution_count": null,
      "outputs": []
    },
    {
      "cell_type": "code",
      "metadata": {
        "colab": {
          "base_uri": "https://localhost:8080/"
        },
        "id": "6AppAkWRcJJP",
        "outputId": "d36c11cc-8068-4066-dd1a-cfcd091b9f3f"
      },
      "source": [
        "# Create output dir\n",
        "output_dir = './noises'\n",
        "make_dir(output_dir)\n",
        "\n",
        "# Copy all .flac files\n",
        "for name in filenames:\n",
        "  copyfile(Path('./ESC-50-master/audio/', name), Path(output_dir, name))"
      ],
      "execution_count": 69,
      "outputs": [
        {
          "output_type": "stream",
          "text": [
            "Successfully created the directory ./noises \n"
          ],
          "name": "stdout"
        }
      ]
    },
    {
      "cell_type": "markdown",
      "metadata": {
        "id": "jSmb_FtugD3X"
      },
      "source": [
        "## Split data to `train` and `test` folders"
      ]
    },
    {
      "cell_type": "code",
      "metadata": {
        "id": "2sgeDoY7guY_"
      },
      "source": [
        "from sklearn.model_selection import train_test_split"
      ],
      "execution_count": 71,
      "outputs": []
    },
    {
      "cell_type": "code",
      "metadata": {
        "id": "vE4hXHArhHPW"
      },
      "source": [
        "clean_voices = list(Path('./clean_voice').glob('*.*'))\n",
        "noises = list(Path('./noises').glob('*.*'))\n",
        "clean_voices_train, clean_voices_test = train_test_split(clean_voices, test_size=0.2, random_state=42)\n",
        "noises_train, noises_test = train_test_split(noises, test_size=0.2, random_state=42)"
      ],
      "execution_count": 75,
      "outputs": []
    },
    {
      "cell_type": "code",
      "metadata": {
        "colab": {
          "base_uri": "https://localhost:8080/"
        },
        "id": "Rg_PTXndhpVR",
        "outputId": "eb9dbb93-26d2-4b62-b89a-db7335238170"
      },
      "source": [
        "train_clean_voices_dir = './data/train/clean_voice/'\n",
        "make_dir(train_clean_voices_dir)\n",
        "\n",
        "for path in clean_voices_train:\n",
        "  copyfile(path, Path(train_clean_voices_dir, path.name))"
      ],
      "execution_count": 78,
      "outputs": [
        {
          "output_type": "stream",
          "text": [
            "Successfully created the directory ./data/train/clean_voice/ \n"
          ],
          "name": "stdout"
        }
      ]
    },
    {
      "cell_type": "code",
      "metadata": {
        "colab": {
          "base_uri": "https://localhost:8080/"
        },
        "id": "eBytiltlhqPM",
        "outputId": "cc26df1f-6378-4b30-9ba1-e62e03664e7c"
      },
      "source": [
        "test_clean_voices_dir = './data/test/clean_voice/'\n",
        "make_dir(test_clean_voices_dir)\n",
        "\n",
        "for path in clean_voices_test:\n",
        "  copyfile(path, Path(test_clean_voices_dir, path.name))"
      ],
      "execution_count": 81,
      "outputs": [
        {
          "output_type": "stream",
          "text": [
            "Successfully created the directory ./data/test/clean_voice/ \n"
          ],
          "name": "stdout"
        }
      ]
    },
    {
      "cell_type": "code",
      "metadata": {
        "colab": {
          "base_uri": "https://localhost:8080/"
        },
        "id": "fxtsmUuoin0t",
        "outputId": "59a742fc-d306-4a20-8bcf-a66bb5a634d6"
      },
      "source": [
        "train_noises_dir = './data/train/noise/'\n",
        "make_dir(train_noises_dir)\n",
        "\n",
        "for path in noises_train:\n",
        "  copyfile(path, Path(train_noises_dir, path.name))"
      ],
      "execution_count": 82,
      "outputs": [
        {
          "output_type": "stream",
          "text": [
            "Successfully created the directory ./data/train/noises/ \n"
          ],
          "name": "stdout"
        }
      ]
    },
    {
      "cell_type": "code",
      "metadata": {
        "colab": {
          "base_uri": "https://localhost:8080/"
        },
        "id": "KbH0q_16ivXm",
        "outputId": "e336eb67-8f4b-4de4-dd26-4226398e3e1c"
      },
      "source": [
        "test_noises_dir = './data/test/noise/'\n",
        "make_dir(test_noises_dir)\n",
        "\n",
        "for path in noises_test:\n",
        "  copyfile(path, Path(test_noises_dir, path.name))"
      ],
      "execution_count": 83,
      "outputs": [
        {
          "output_type": "stream",
          "text": [
            "Successfully created the directory ./data/test/noises/ \n"
          ],
          "name": "stdout"
        }
      ]
    },
    {
      "cell_type": "markdown",
      "metadata": {
        "id": "xyJLiBbgi7Oy"
      },
      "source": [
        "## Save data to google drive"
      ]
    },
    {
      "cell_type": "code",
      "metadata": {
        "id": "DTEisEe1izhi"
      },
      "source": [
        " !zip -qr data.zip data/ "
      ],
      "execution_count": 86,
      "outputs": []
    },
    {
      "cell_type": "code",
      "metadata": {
        "colab": {
          "base_uri": "https://localhost:8080/"
        },
        "id": "ZnnQ59pGjFHG",
        "outputId": "e58b401f-eea1-47bc-d118-35aab89d3df6"
      },
      "source": [
        "from google.colab import drive\n",
        "drive.mount('/content/gdrive')"
      ],
      "execution_count": 87,
      "outputs": [
        {
          "output_type": "stream",
          "text": [
            "Mounted at /content/gdrive\n"
          ],
          "name": "stdout"
        }
      ]
    },
    {
      "cell_type": "code",
      "metadata": {
        "id": "C0ghEtmxjhcR"
      },
      "source": [
        "!mkdir /content/gdrive/MyDrive/noise_reduction/\n",
        "!cp data.zip /content/gdrive/MyDrive/noise_reduction/development_data.zip"
      ],
      "execution_count": 89,
      "outputs": []
    },
    {
      "cell_type": "code",
      "metadata": {
        "id": "uREenL_Vjqog"
      },
      "source": [
        ""
      ],
      "execution_count": null,
      "outputs": []
    }
  ]
}